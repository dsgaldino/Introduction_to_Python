{
  "nbformat": 4,
  "nbformat_minor": 0,
  "metadata": {
    "colab": {
      "name": "Python Lists.ipynb",
      "provenance": [],
      "collapsed_sections": [
        "EHgzUXI67z-Z",
        "ha-Nc6-oRstg",
        "5JOBt6fnSwUt",
        "7NVYRVFHT_Yw",
        "qUybT4azWwN1",
        "AukzluZZZT6W",
        "XEdwOLaNZ1bx",
        "zFR6MyUeafEU",
        "BSJnP1NPdYwf",
        "nr0BpMFrGGNf"
      ],
      "toc_visible": true
    },
    "kernelspec": {
      "name": "python3",
      "display_name": "Python 3"
    },
    "language_info": {
      "name": "python"
    }
  },
  "cells": [
    {
      "cell_type": "markdown",
      "metadata": {
        "id": "EHgzUXI67z-Z"
      },
      "source": [
        "# **Create a list**\n",
        "\n",
        "As opposed to `int`, `bool` etc., a list is a **compound data type**; you can group values together:\n",
        "\n",
        "```\n",
        "a = \"is\"\n",
        "b = \"nice\"\n",
        "my_list = [\"my\", \"list\", a, b]\n",
        "```\n",
        "\n",
        "\n",
        "After measuring the height of your family, you decide to collect some information on the house you're living in. The areas of the different parts of your house are stored in separate variables for now, as shown in the script.\n",
        "\n",
        "**Instructions (100Xp)**\n",
        "\n",
        "*   Create a list, `areas`, that contains the area of the hallway (`hall`), kitchen (`kit`), living room (`liv`), bedroom (`bed`) and bathroom (`bath`), in this order. Use the predefined variables.\n",
        "*   Print `areas` with the `print()` function."
      ]
    },
    {
      "cell_type": "code",
      "metadata": {
        "colab": {
          "base_uri": "https://localhost:8080/"
        },
        "id": "eTLQmSel7zMl",
        "outputId": "b177633d-0d15-40ee-d950-b647e644ce2e"
      },
      "source": [
        "# area variables (in square meters)\n",
        "hall = 11.25\n",
        "kit = 18.0\n",
        "liv = 20.0\n",
        "bed = 10.75\n",
        "bath = 9.50\n",
        "\n",
        "# Create list areas\n",
        "areas = [hall, kit, liv, bed, bath]\n",
        "\n",
        "# Print areas\n",
        "print(areas)"
      ],
      "execution_count": null,
      "outputs": [
        {
          "output_type": "stream",
          "name": "stdout",
          "text": [
            "[11.25, 18.0, 20.0, 10.75, 9.5]\n"
          ]
        }
      ]
    },
    {
      "cell_type": "markdown",
      "source": [
        "# **Create list with different types**\n",
        "\n",
        "A list can contain any Python type. Although it's not really common, a list can also contain a mix of Python types including strings, floats, booleans, etc.\n",
        "\n",
        "The printout of the previous exercise wasn't really satisfying. It's just a list of numbers representing the areas, but you can't tell which area corresponds to which part of your house.\n",
        "\n",
        "The code in the editor is the start of a solution. For some of the areas, the name of the corresponding room is already placed in front. Pay attention here! `\"bathroom\"` is a string, while `bath` is a variable that represents the float `9.50` you specified earlier.\n",
        "\n",
        "**Instructions (100 XP)**\n",
        "\n",
        "* Finish the code that creates the `areas` list. Build the list so that the list first contains the name of each room as a string and then its area. In other words, add the strings `\"hallway\"`, `\"kitchen\"` and `\"bedroom\"` at the appropriate locations.\n",
        "* Print `areas` again; is the printout more informative this time?\n",
        "\n"
      ],
      "metadata": {
        "id": "ha-Nc6-oRstg"
      }
    },
    {
      "cell_type": "code",
      "source": [
        "# area variables (in square meters)\n",
        "hall = 11.25\n",
        "kit = 18.0\n",
        "liv = 20.0\n",
        "bed = 10.75\n",
        "bath = 9.50\n",
        "\n",
        "# Adapt list areas\n",
        "areas = [\"hallway\", hall,\"kitchen\", kit, \"living room\", liv,\"bedroom\", bed, \"bathroom\", bath]\n",
        "\n",
        "# Print areas\n",
        "print(areas)"
      ],
      "metadata": {
        "colab": {
          "base_uri": "https://localhost:8080/"
        },
        "id": "qvtnr9_bqHDO",
        "outputId": "da204910-6988-44cb-ad53-87d0c0baec9d"
      },
      "execution_count": null,
      "outputs": [
        {
          "output_type": "stream",
          "name": "stdout",
          "text": [
            "['hallway', 11.25, 'kitchen', 18.0, 'living room', 20.0, 'bedroom', 10.75, 'bathroom', 9.5]\n"
          ]
        }
      ]
    },
    {
      "cell_type": "markdown",
      "source": [
        "# **Select the valid list**\n",
        "\n",
        "A list can contain any Python type. But a list itself is also a Python type. That means that a list can also contain a list! Python is getting funkier by the minute, but fear not, just remember the list syntax:\n",
        "\n",
        "`my_list = [el1, el2, el3]`\n",
        "\n",
        "Can you tell which ones of the following lines of Python code are valid ways to build a list?\n",
        "\n",
        "A. `[1, 3, 4, 2]` B. `[[1, 2, 3], [4, 5, 7]]` C. `[1 + 2, \"a\" * 5, 3]`\n",
        "\n",
        "**Instructions (50 XP)**\n",
        "\n",
        "Possible Answers\n",
        "\n",
        "* **A, B and C**\n",
        "* B\n",
        "* B and C\n",
        "* C"
      ],
      "metadata": {
        "id": "5JOBt6fnSwUt"
      }
    },
    {
      "cell_type": "code",
      "source": [
        "A= [1, 3, 4, 2]\n",
        "B= [[1, 2, 3], [4, 5, 7]]\n",
        "C= [1 + 2, \"a\" * 5, 3]\n",
        "\n",
        "print(A)\n",
        "print(B)\n",
        "print(C)"
      ],
      "metadata": {
        "colab": {
          "base_uri": "https://localhost:8080/"
        },
        "id": "Xk-MZfMtT3R5",
        "outputId": "109f6a6f-e4d2-43b1-eb93-b61d8f3963d6"
      },
      "execution_count": null,
      "outputs": [
        {
          "output_type": "stream",
          "name": "stdout",
          "text": [
            "[1, 3, 4, 2]\n",
            "[[1, 2, 3], [4, 5, 7]]\n",
            "[3, 'aaaaa', 3]\n"
          ]
        }
      ]
    },
    {
      "cell_type": "markdown",
      "source": [
        "# **List of lists**\n",
        "\n",
        "As a data scientist, you'll often be dealing with a lot of data, and it will make sense to group some of this data.\n",
        "\n",
        "Instead of creating a flat list containing strings and floats, representing the names and areas of the rooms in your house, you can create a list of lists. The script in the editor can already give you an idea.\n",
        "\n",
        "Don't get confused here: `\"hallway\"` is a string, while `hall` is a variable that represents the float `11.25` you specified earlier.\n",
        "\n",
        " **Instructions (100XP)**\n",
        "\n",
        "* Finish the list of lists so that it also contains the bedroom and bathroom data. Make sure you enter these in order!\n",
        "* Print out `house`; does this way of structuring your data make more sense?\n",
        "* Print out the type of house. Are you still dealing with a list?"
      ],
      "metadata": {
        "id": "7NVYRVFHT_Yw"
      }
    },
    {
      "cell_type": "code",
      "source": [
        "# area variables (in square meters)\n",
        "hall = 11.25\n",
        "kit = 18.0\n",
        "liv = 20.0\n",
        "bed = 10.75\n",
        "bath = 9.50\n",
        "\n",
        "# house information as list of lists\n",
        "house = [[\"hallway\", hall],\n",
        "         [\"kitchen\", kit],\n",
        "         [\"living room\", liv],\n",
        "         [\"bedroom\", bed],\n",
        "         [\"bathroom\", bath]]\n",
        "\n",
        "# Print out house\n",
        "print(house)\n",
        "\n",
        "# Print out the type of house\n",
        "print(type(house))"
      ],
      "metadata": {
        "colab": {
          "base_uri": "https://localhost:8080/"
        },
        "id": "HUF7KpklV5oJ",
        "outputId": "721252fc-7866-4f4d-fd67-8b7552398050"
      },
      "execution_count": null,
      "outputs": [
        {
          "output_type": "stream",
          "name": "stdout",
          "text": [
            "[['hallway', 11.25], ['kitchen', 18.0], ['living room', 20.0], ['bedroom', 10.75], ['bathroom', 9.5]]\n",
            "<class 'list'>\n"
          ]
        }
      ]
    },
    {
      "cell_type": "markdown",
      "source": [
        "# **Subset and conquer**\n",
        "\n",
        "Subsetting Python lists is a piece of cake. Take the code sample below, which creates a list `x` and then selects \"b\" from it. Remember that this is the second element, so it has index 1. You can also use negative indexing.\n",
        "\n",
        "```\n",
        "x = [\"a\", \"b\", \"c\", \"d\"]\n",
        "x[1]\n",
        "x[-3] # same result!\n",
        "```\n",
        "\n",
        "Remember the `areas` list from before, containing both strings and floats? Its definition is already in the script. Can you add the correct code to do some Python subsetting?\n",
        "\n",
        "**Instructions (100 XP)**\n",
        "\n",
        "\n",
        "\n",
        "* Print out the second element from the `areas` list (it has the value `11.25`).\n",
        "* Subset and print out the last element of `areas`, being `9.50`. Using a negative index makes sense here!\n",
        "* Select the number representing the area of the living room (`20.0`) and print it out."
      ],
      "metadata": {
        "id": "qUybT4azWwN1"
      }
    },
    {
      "cell_type": "code",
      "source": [
        "# Create the areas list\n",
        "areas = [\"hallway\", 11.25, \"kitchen\", 18.0, \"living room\", 20.0, \"bedroom\", 10.75, \"bathroom\", 9.50]\n",
        "\n",
        "# Print out second element from areas\n",
        "print(areas[1])\n",
        "\n",
        "# Print out last element from areas\n",
        "print(areas[-1])\n",
        "\n",
        "# Print out the area of the living room\n",
        "print(areas[5])"
      ],
      "metadata": {
        "colab": {
          "base_uri": "https://localhost:8080/"
        },
        "id": "aeAt6ShbZLl7",
        "outputId": "f0c2c77e-bff9-47e5-f3b4-01baa78685ba"
      },
      "execution_count": null,
      "outputs": [
        {
          "output_type": "stream",
          "name": "stdout",
          "text": [
            "11.25\n",
            "9.5\n",
            "20.0\n"
          ]
        }
      ]
    },
    {
      "cell_type": "markdown",
      "source": [
        "# **Subset and calculate**\n",
        "\n",
        "After you've extracted values from a list, you can use them to perform additional calculations. Take this example, where the second and fourth element of a list `x` are extracted. The strings that result are pasted together using the `+` operator:\n",
        "\n",
        "```\n",
        "x = [\"a\", \"b\", \"c\", \"d\"]\n",
        "print(x[1] + x[3])\n",
        "```\n",
        "**Instructions (100XP)**\n",
        "\n",
        "* Using a combination of list subsetting and variable assignment, create a new variable, `eat_sleep_area`, that contains the sum of the area of the kitchen and the area of the bedroom.\n",
        "* Print the new variable `eat_sleep_area`.\n"
      ],
      "metadata": {
        "id": "AukzluZZZT6W"
      }
    },
    {
      "cell_type": "code",
      "source": [
        "# Create the areas list\n",
        "areas = [\"hallway\", 11.25, \"kitchen\", 18.0, \"living room\", 20.0, \"bedroom\", 10.75, \"bathroom\", 9.50]\n",
        "\n",
        "# Sum of kitchen and bedroom area: eat_sleep_area\n",
        "eat_sleep_area = areas[3] + areas[7]\n",
        "\n",
        "# Print the variable eat_sleep_area\n",
        "print(eat_sleep_area)"
      ],
      "metadata": {
        "colab": {
          "base_uri": "https://localhost:8080/"
        },
        "id": "4A2b3Q6LZxJP",
        "outputId": "5ded0bf1-12c1-47db-9f0c-93c3b35b418e"
      },
      "execution_count": null,
      "outputs": [
        {
          "output_type": "stream",
          "name": "stdout",
          "text": [
            "28.75\n"
          ]
        }
      ]
    },
    {
      "cell_type": "markdown",
      "source": [
        "# **Slicing and dicing**\n",
        "\n",
        "Selecting single values from a list is just one part of the story. It's also possible to slice your list, which means selecting multiple elements from your list. Use the following syntax:\n",
        "\n",
        "`my_list[start:end]`\n",
        "\n",
        "The `start` index will be included, while the `end` index is not.\n",
        "\n",
        "The code sample below shows an example. A list with `\"b\"` and `\"c\"`, corresponding to indexes 1 and 2, are selected from a list `x`:\n",
        "\n",
        "```\n",
        "x = [\"a\", \"b\", \"c\", \"d\"]\n",
        "x[1:3]\n",
        "```\n",
        "\n",
        "The elements with index 1 and 2 are included, while the element with index 3 is not.\n",
        "\n",
        "**Instructions (100 XP)**\n",
        "\n",
        "* Use slicing to create a list, `downstairs`, that contains the first 6 elements of `areas`.\n",
        "* Do a similar thing to create a new variable, `upstairs`, that contains the last 4 elements of `areas`.\n",
        "* Print both `downstairs` and `upstairs` using `print()`."
      ],
      "metadata": {
        "id": "XEdwOLaNZ1bx"
      }
    },
    {
      "cell_type": "code",
      "source": [
        "# Create the areas list\n",
        "areas = [\"hallway\", 11.25, \"kitchen\", 18.0, \"living room\", 20.0, \"bedroom\", 10.75, \"bathroom\", 9.50]\n",
        "\n",
        "# Use slicing to create downstairs\n",
        "downstairs = areas[:6]\n",
        "\n",
        "# Use slicing to create upstairs\n",
        "upstairs = areas[6:]\n",
        "\n",
        "# Print out downstairs and upstairs\n",
        "print(downstairs)\n",
        "print(upstairs)"
      ],
      "metadata": {
        "id": "xph2WZZPab0_",
        "colab": {
          "base_uri": "https://localhost:8080/"
        },
        "outputId": "ac2b3a55-f102-4d8b-fcce-7e9e9cb89c14"
      },
      "execution_count": null,
      "outputs": [
        {
          "output_type": "stream",
          "name": "stdout",
          "text": [
            "['hallway', 11.25, 'kitchen', 18.0, 'living room', 20.0]\n",
            "['bedroom', 10.75, 'bathroom', 9.5]\n"
          ]
        }
      ]
    },
    {
      "cell_type": "markdown",
      "source": [
        "# **Slicing and dicing (2)**\n",
        "\n",
        "In the video, Hugo first discussed the syntax where you specify both where to begin and end the slice of your list:\n",
        "\n",
        "`my_list[begin:end]`\n",
        "\n",
        "However, it's also possible not to specify these indexes. If you don't specify the `begin` index, Python figures out that you want to start your slice at the beginning of your list. If you don't specify the `end` index, the slice will go all the way to the last element of your list. To experiment with this, try the following commands in the IPython Shell:\n",
        "\n",
        "```\n",
        "x = [\"a\", \"b\", \"c\", \"d\"]\n",
        "x[:2]\n",
        "x[2:]\n",
        "x[:]\n",
        "```\n",
        "\n",
        "**Instructions (100 XP)**\n",
        "\n",
        "* Create `downstairs` again, as the first `6` elements of areas. This time, simplify the slicing by omitting the `begin` index.\n",
        "* Create `upstairs` again, as the last `4` elements of `areas`. This time, simplify the slicing by omitting the `end` index."
      ],
      "metadata": {
        "id": "zFR6MyUeafEU"
      }
    },
    {
      "cell_type": "code",
      "source": [
        "# Create the areas list\n",
        "areas = [\"hallway\", 11.25, \"kitchen\", 18.0, \"living room\", 20.0, \"bedroom\", 10.75, \"bathroom\", 9.50]\n",
        "\n",
        "# Alternative slicing to create downstairs\n",
        "downstairs = areas[:6]\n",
        "\n",
        "# Alternative slicing to create upstairs\n",
        "upstairs = areas[6:]"
      ],
      "metadata": {
        "id": "2P_LfovzbeWY"
      },
      "execution_count": null,
      "outputs": []
    },
    {
      "cell_type": "markdown",
      "source": [
        "# **Subsetting lists of lists**\n",
        "\n",
        "You saw before that a Python list can contain practically anything; even other lists! To subset lists of lists, you can use the same technique as before: square brackets. Try out the commands in the following code sample in the IPython Shell:\n",
        "\n",
        "```\n",
        "x = [[\"a\", \"b\", \"c\"],\n",
        "     [\"d\", \"e\", \"f\"],\n",
        "     [\"g\", \"h\", \"i\"]]\n",
        "x[2][0]\n",
        "x[2][:2]\n",
        "\n",
        "```\n",
        "\n",
        "`x[2]` results in a list, that you can subset again by adding additional square brackets.\n",
        "\n",
        "What will `house[-1][1]` return? `house`, the list of lists that you created before, is already defined for you in the workspace. You can experiment with it in the IPython Shell.\n",
        "\n",
        "**Instructions (50 XP)**\n",
        "\n",
        "Possible Answers\n",
        "\n",
        "* A float: the kitchen area\n",
        "* A string: \"kitchen\"\n",
        "* **A float: the bathroom area**\n",
        "* A string: \"bathroom\""
      ],
      "metadata": {
        "id": "7bRTi17rc5Ef"
      }
    },
    {
      "cell_type": "markdown",
      "source": [
        "# **Replace list elements**\n",
        "\n",
        "Replacing list elements is pretty easy. Simply subset the list and assign new values to the subset. You can select single elements or you can change entire list slices at once.\n",
        "\n",
        "Use the IPython Shell to experiment with the commands below. Can you tell what's happening and why?\n",
        "\n",
        "```\n",
        "x = [\"a\", \"b\", \"c\", \"d\"]\n",
        "x[1] = \"r\"\n",
        "x[2:] = [\"s\", \"t\"]\n",
        "```\n",
        "\n",
        "For this and the following exercises, you'll continue working on the `areas` list that contains the names and areas of different rooms in a house.\n",
        "\n",
        "**Instructions (100 XP)**\n",
        "\n",
        "* Update the area of the bathroom area to be 10.50 square meters instead of 9.50.\n",
        "* Make the `areas` list more trendy! Change `\"living room\"` to `\"chill zone\"`.\n",
        "\n",
        "\n"
      ],
      "metadata": {
        "id": "BSJnP1NPdYwf"
      }
    },
    {
      "cell_type": "code",
      "source": [
        "# Create the areas list\n",
        "areas = [\"hallway\", 11.25, \"kitchen\", 18.0, \"living room\", 20.0, \"bedroom\", 10.75, \"bathroom\", 9.50]\n",
        "\n",
        "# Correct the bathroom area\n",
        "areas[-1] = 10.50\n",
        "\n",
        "# Change \"living room\" to \"chill zone\"\n",
        "areas[4] = \"chill zone\""
      ],
      "metadata": {
        "id": "3Rhy7K_Vd_j6"
      },
      "execution_count": null,
      "outputs": []
    },
    {
      "cell_type": "markdown",
      "source": [
        "# **Extend a list**\n",
        "\n",
        "If you can change elements in a list, you sure want to be able to add elements to it, right? You can use the + operator:\n",
        "\n",
        "```\n",
        "x = [\"a\", \"b\", \"c\", \"d\"]\n",
        "y = x + [\"e\", \"f\"]\n",
        "```\n",
        "\n",
        "You just won the lottery, awesome! You decide to build a poolhouse and a garage. Can you add the information to the `areas` list?\n",
        "\n",
        "**Instructions (100 XP)**\n",
        "\n",
        "* Use the `+` operator to paste the list `[\"poolhouse\", 24.5]` to the end of the `areas` list. Store the resulting list as `areas_1`.\n",
        "* Further extend `areas_1` by adding data on your garage. Add the string `\"garage\"` and float `15.45`. Name the resulting list `areas_2`.\n",
        "\n",
        "\n"
      ],
      "metadata": {
        "id": "GbSZJxKmeHnb"
      }
    },
    {
      "cell_type": "code",
      "source": [
        "# Create the areas list and make some changes\n",
        "areas = [\"hallway\", 11.25, \"kitchen\", 18.0, \"chill zone\", 20.0,\n",
        "         \"bedroom\", 10.75, \"bathroom\", 10.50]\n",
        "\n",
        "# Add poolhouse data to areas, new list is areas_1\n",
        "areas_1 = areas + [\"poolhouse\", 24.5]\n",
        "\n",
        "# Add garage data to areas_1, new list is areas_2\n",
        "areas_2 = areas_1 + [\"garage\", 15.45]"
      ],
      "metadata": {
        "id": "iwNVGPhTeh_7"
      },
      "execution_count": null,
      "outputs": []
    },
    {
      "cell_type": "markdown",
      "source": [
        "# **Delete list elements**\n",
        "\n",
        "Finally, you can also remove elements from your list. You can do this with the `del` statement:\n",
        "\n",
        "```\n",
        "x = [\"a\", \"b\", \"c\", \"d\"]\n",
        "del(x[1])\n",
        "```\n",
        "\n",
        "Pay attention here: as soon as you remove an element from a list, the indexes of the elements that come after the deleted element all change!\n",
        "\n",
        "The updated and extended version of `areas` that you've built in the previous exercises is coded below. You can copy and paste this into the IPython Shell to play around with the result.\n",
        "\n",
        "```\n",
        "areas = [\"hallway\", 11.25, \"kitchen\", 18.0,\n",
        "        \"chill zone\", 20.0, \"bedroom\", 10.75,\n",
        "         \"bathroom\", 10.50, \"poolhouse\", 24.5,\n",
        "         \"garage\", 15.45]\n",
        "```\n",
        "\n",
        "There was a mistake! The amount you won with the lottery is not that big after all and it looks like the poolhouse isn't going to happen. You decide to remove the corresponding string and float from the `areas` list.\n",
        "\n",
        "The `;` sign is used to place commands on the same line. The following two code chunks are equivalent:\n",
        "\n",
        "```\n",
        "# Same line\n",
        "command1; command2\n",
        "\n",
        "# Separate lines\n",
        "command1\n",
        "command2\n",
        "```\n",
        "\n",
        "Which of the code chunks will do the job for us?\n",
        "\n",
        "**Instructions (50 XP)**\n",
        "\n",
        "Possible Answers\n",
        "\n",
        "* del(areas[10]); del(areas[11])\n",
        "* del(areas[10:11])\n",
        "* **del(areas[-4:-2])**\n",
        "* del(areas[-3]); del(areas[-4])"
      ],
      "metadata": {
        "id": "nr0BpMFrGGNf"
      }
    },
    {
      "cell_type": "code",
      "source": [
        "areas = [\"hallway\", 11.25, \"kitchen\", 18.0,\n",
        "        \"chill zone\", 20.0, \"bedroom\", 10.75,\n",
        "         \"bathroom\", 10.50, \"poolhouse\", 24.5,\n",
        "         \"garage\", 15.45]\n",
        "\n",
        "del(areas[10]); del(areas[11]) #Delete the names poolhouse and garage\n",
        "\n",
        "print(areas)"
      ],
      "metadata": {
        "colab": {
          "base_uri": "https://localhost:8080/"
        },
        "id": "wSiUVTpjGz-G",
        "outputId": "51e34aad-dbcb-4085-e4ef-9ba273366869"
      },
      "execution_count": 4,
      "outputs": [
        {
          "output_type": "stream",
          "name": "stdout",
          "text": [
            "['hallway', 11.25, 'kitchen', 18.0, 'chill zone', 20.0, 'bedroom', 10.75, 'bathroom', 10.5, 24.5, 15.45]\n"
          ]
        }
      ]
    },
    {
      "cell_type": "code",
      "source": [
        "areas = [\"hallway\", 11.25, \"kitchen\", 18.0,\n",
        "        \"chill zone\", 20.0, \"bedroom\", 10.75,\n",
        "         \"bathroom\", 10.50, \"poolhouse\", 24.5,\n",
        "         \"garage\", 15.45]\n",
        "\n",
        "del(areas[10:11]) #Delete the name poolhouse\n",
        "\n",
        "print(areas)"
      ],
      "metadata": {
        "colab": {
          "base_uri": "https://localhost:8080/"
        },
        "id": "JZt-q7jJIR4M",
        "outputId": "6d22ab56-6b8c-4a4f-a64b-a0fbd36dafce"
      },
      "execution_count": 5,
      "outputs": [
        {
          "output_type": "stream",
          "name": "stdout",
          "text": [
            "['hallway', 11.25, 'kitchen', 18.0, 'chill zone', 20.0, 'bedroom', 10.75, 'bathroom', 10.5, 24.5, 'garage', 15.45]\n"
          ]
        }
      ]
    },
    {
      "cell_type": "code",
      "source": [
        "areas = [\"hallway\", 11.25, \"kitchen\", 18.0,\n",
        "        \"chill zone\", 20.0, \"bedroom\", 10.75,\n",
        "         \"bathroom\", 10.50, \"poolhouse\", 24.5,\n",
        "         \"garage\", 15.45]\n",
        "\n",
        "del(areas[-4:-2]) #Delete the name and size of poolhouse (CORRECT)\n",
        "\n",
        "print(areas)"
      ],
      "metadata": {
        "colab": {
          "base_uri": "https://localhost:8080/"
        },
        "id": "nAhRUgq6IZ_M",
        "outputId": "1fa36ae4-2bbb-4fe3-cd5c-eb383bf5dcc4"
      },
      "execution_count": 6,
      "outputs": [
        {
          "output_type": "stream",
          "name": "stdout",
          "text": [
            "['hallway', 11.25, 'kitchen', 18.0, 'chill zone', 20.0, 'bedroom', 10.75, 'bathroom', 10.5, 'garage', 15.45]\n"
          ]
        }
      ]
    },
    {
      "cell_type": "code",
      "source": [
        "areas = [\"hallway\", 11.25, \"kitchen\", 18.0,\n",
        "        \"chill zone\", 20.0, \"bedroom\", 10.75,\n",
        "         \"bathroom\", 10.50, \"poolhouse\", 24.5,\n",
        "         \"garage\", 15.45]\n",
        "\n",
        "del(areas[-3]); del(areas[-4]) #Delete the size of poolhouse\n",
        "\n",
        "print(areas)"
      ],
      "metadata": {
        "colab": {
          "base_uri": "https://localhost:8080/"
        },
        "id": "SVVWU93uIbDu",
        "outputId": "1d982d49-b2ff-4403-9f82-c73a4b265da6"
      },
      "execution_count": 7,
      "outputs": [
        {
          "output_type": "stream",
          "name": "stdout",
          "text": [
            "['hallway', 11.25, 'kitchen', 18.0, 'chill zone', 20.0, 'bedroom', 10.75, 'bathroom', 'poolhouse', 'garage', 15.45]\n"
          ]
        }
      ]
    },
    {
      "cell_type": "markdown",
      "source": [
        "# **Inner workings of lists**\n",
        "\n",
        "At the end of the video, Hugo explained how Python lists work behind the scenes. In this exercise you'll get some hands-on experience with this.\n",
        "\n",
        "The Python code in the script already creates a list with the name `areas` and a copy named `areas_copy`. Next, the first element in the `areas_copy` list is changed and the `areas` list is printed out. If you hit Run Code you'll see that, although you've changed `areas_copy`, the change also takes effect in the `areas` list. That's because `areas` and `areas_copy` point to the same list.\n",
        "\n",
        "If you want to prevent changes in `areas_copy` from also taking effect in `areas`, you'll have to do a more explicit copy of the `areas` list. You can do this with `list()` or by using `[:]`.\n",
        "\n",
        "**Instructions (100 XP)**\n",
        "\n",
        "Change the second command, that creates the variable `areas_copy`, such that `areas_copy` is an explicit copy of `areas`. After your edit, changes made to `areas_copy` shouldn't affect `areas`. Submit the answer to check this."
      ],
      "metadata": {
        "id": "jMY1q1o0JRjk"
      }
    },
    {
      "cell_type": "code",
      "source": [
        "# Create list areas\n",
        "areas = [11.25, 18.0, 20.0, 10.75, 9.50]\n",
        "\n",
        "# Create areas_copy\n",
        "areas_copy = areas[:]\n",
        "\n",
        "# Change areas_copy\n",
        "areas_copy[0] = 5.0\n",
        "\n",
        "# Print areas\n",
        "print(\"area\" + str(areas))\n",
        "print(\"area_copy\" + str(areas_copy))"
      ],
      "metadata": {
        "colab": {
          "base_uri": "https://localhost:8080/"
        },
        "id": "L_2Aoz-tKqCy",
        "outputId": "71deeec6-2288-46e4-9d46-8d116e6682b2"
      },
      "execution_count": 8,
      "outputs": [
        {
          "output_type": "stream",
          "name": "stdout",
          "text": [
            "area[11.25, 18.0, 20.0, 10.75, 9.5]\n",
            "area_copy[5.0, 18.0, 20.0, 10.75, 9.5]\n"
          ]
        }
      ]
    }
  ]
}